{
  "cells": [
    {
      "cell_type": "markdown",
      "metadata": {
        "id": "view-in-github",
        "colab_type": "text"
      },
      "source": [
        "<a href=\"https://colab.research.google.com/github/Alok214/diabetesPrediction/blob/main/DiabetesPrediction.ipynb\" target=\"_parent\"><img src=\"https://colab.research.google.com/assets/colab-badge.svg\" alt=\"Open In Colab\"/></a>"
      ]
    },
    {
      "cell_type": "code",
      "execution_count": 55,
      "metadata": {
        "colab": {
          "base_uri": "https://localhost:8080/"
        },
        "id": "nUsr-zOmIARy",
        "outputId": "e777393d-abb4-46a9-a200-c42cca36b579"
      },
      "outputs": [
        {
          "output_type": "stream",
          "name": "stdout",
          "text": [
            "Drive already mounted at /content/drive; to attempt to forcibly remount, call drive.mount(\"/content/drive\", force_remount=True).\n"
          ]
        }
      ],
      "source": [
        "from google.colab import drive\n",
        "drive.mount('/content/drive')"
      ]
    },
    {
      "cell_type": "code",
      "execution_count": 56,
      "metadata": {
        "id": "3RncY9WPJDWy"
      },
      "outputs": [],
      "source": [
        "import numpy as np\n",
        "import pandas as pd\n",
        "import matplotlib.pyplot as plt"
      ]
    },
    {
      "cell_type": "code",
      "execution_count": 67,
      "metadata": {
        "id": "tEl9E26jJAIN"
      },
      "outputs": [],
      "source": [
        "# Geting the diabetes dataset\n",
        "diabetes = pd.read_csv('/content/drive/MyDrive/MLProjects/diabetes.csv')"
      ]
    },
    {
      "cell_type": "code",
      "execution_count": 58,
      "metadata": {
        "id": "sBi6LUVoJpDh"
      },
      "outputs": [],
      "source": [
        "# Define the features and target variable\n",
        "features = ['Pregnancies', 'Glucose', 'BloodPressure', 'SkinThickness', 'Insulin', 'BMI', 'DiabetesPedigreeFunction', 'Age']\n",
        "target = 'Outcome'"
      ]
    },
    {
      "cell_type": "code",
      "execution_count": 59,
      "metadata": {
        "id": "IOACDEFBKgN_"
      },
      "outputs": [],
      "source": [
        "# Split the data into features and target variable\n",
        "x = diabetes[features]\n",
        "y = diabetes[target]"
      ]
    },
    {
      "cell_type": "code",
      "execution_count": null,
      "metadata": {
        "id": "_G7zmx0zKgLQ"
      },
      "outputs": [],
      "source": [
        "from sklearn.linear_model import LogisticRegression\n",
        "# Train the logistic regression model\n",
        "log_reg = LogisticRegression()\n",
        "log_reg.fit(x, y)"
      ]
    },
    {
      "cell_type": "code",
      "execution_count": 61,
      "metadata": {
        "colab": {
          "base_uri": "https://localhost:8080/"
        },
        "id": "c8xR1SptKgJQ",
        "outputId": "1555244e-35f5-427c-b4cd-c9f74f02b592"
      },
      "outputs": [
        {
          "name": "stdout",
          "output_type": "stream",
          "text": [
            "Enter number of pregnancies: 4\n",
            "Enter glucose level: 170\n",
            "Enter blood pressure: 75\n",
            "Enter skin thickness: 40\n",
            "Enter insulin level: 184\n",
            "Enter BMI: 30\n",
            "Enter diabetes pedigree function: .8\n",
            "Enter age: 40\n"
          ]
        }
      ],
      "source": [
        "# Get user input for prediction\n",
        "pregnancies = int(input('Enter number of pregnancies: '))\n",
        "glucose = int(input('Enter glucose level: '))\n",
        "bloodPressure = int(input('Enter blood pressure: '))\n",
        "skinThickness = int(input('Enter skin thickness: '))\n",
        "insulin = int(input('Enter insulin level: '))\n",
        "bmi = float(input('Enter BMI: '))\n",
        "dpf = float(input('Enter diabetes pedigree function: '))\n",
        "age = int(input('Enter age: '))"
      ]
    },
    {
      "cell_type": "code",
      "execution_count": null,
      "metadata": {
        "id": "aF8ijs1GKyur"
      },
      "outputs": [],
      "source": [
        "# Make a prediction using the user input\n",
        "input = [[pregnancies, glucose, bloodPressure, skinThickness, insulin, bmi, dpf, age]]\n",
        "prediction = log_reg.predict(input)"
      ]
    },
    {
      "cell_type": "code",
      "execution_count": 66,
      "metadata": {
        "colab": {
          "base_uri": "https://localhost:8080/"
        },
        "id": "OiMNcmuIJIFz",
        "outputId": "f6b44637-6731-4bdc-85cb-d7b710e6917b"
      },
      "outputs": [
        {
          "output_type": "stream",
          "name": "stdout",
          "text": [
            "=> The person is likely to have diabetes :(\n"
          ]
        }
      ],
      "source": [
        "# Prediction\n",
        "if prediction[0] == 0:\n",
        "    print('=> The person is not likely to have diabetes :)')\n",
        "else:\n",
        "    print('=> The person is likely to have diabetes :(')\n"
      ]
    }
  ],
  "metadata": {
    "colab": {
      "provenance": [],
      "authorship_tag": "ABX9TyOr+r1s7ecaFtEC/cz7va5P",
      "include_colab_link": true
    },
    "kernelspec": {
      "display_name": "Python 3",
      "name": "python3"
    },
    "language_info": {
      "name": "python"
    }
  },
  "nbformat": 4,
  "nbformat_minor": 0
}